{
 "cells": [
  {
   "cell_type": "markdown",
   "metadata": {},
   "source": [
    "# Delete Duplicate Emails\n",
    "\n",
    "Write a solution to delete all duplicate emails, keeping only one unique email with the smallest id.\n",
    "\n",
    "The result format is in the following example.\n",
    "\n",
    "**Example 1:**\n",
    "```\n",
    "Input: \n",
    "Person table:\n",
    "+----+------------------+\n",
    "| id | email            |\n",
    "+----+------------------+\n",
    "| 1  | john@example.com |\n",
    "| 2  | bob@example.com  |\n",
    "| 3  | john@example.com |\n",
    "+----+------------------+\n",
    "\n",
    "Output: \n",
    "+----+------------------+\n",
    "| id | email            |\n",
    "+----+------------------+\n",
    "| 1  | john@example.com |\n",
    "| 2  | bob@example.com  |\n",
    "+----+------------------+\n",
    "```\n",
    "Explanation: john@example.com is repeated two times. We keep the row with the smallest Id = 1.\n",
    "\n",
    "Once you have implemented your solution, run the code block containing your `delete_duplicate_emails` function. Be sure that your function [returns](https://www.geeksforgeeks.org/python-return-statement/) a dataframe, and doesn't simply print."
   ]
  },
  {
   "cell_type": "code",
   "execution_count": 7,
   "metadata": {},
   "outputs": [],
   "source": [
    "import pandas as pd\n",
    "\n",
    "def delete_duplicate_emails(person):\n",
    "    person.sort_values(by='id', inplace=True)\n",
    "    person.drop_duplicates(subset=['email'], inplace=True)\n",
    "    return person"
   ]
  },
  {
   "cell_type": "markdown",
   "metadata": {},
   "source": [
    "## Test Block\n",
    "\n",
    "**NOTE: Before running the code block below, please be sure that the function you implemented above runs successfully (i.e. a green check-mark appears when running your code)**\n",
    "\n",
    "Run the following block of code to test your `delete_duplicate_emails` function. If all cases evaluate to true, your code is functioning correctly!"
   ]
  },
  {
   "cell_type": "code",
   "execution_count": 8,
   "metadata": {},
   "outputs": [
    {
     "name": "stdout",
     "output_type": "stream",
     "text": [
      "Output\n",
      ":    id             email\n",
      "0   1  john@example.com\n",
      "1   2   bob@example.com\n",
      "Test case 1: True\n"
     ]
    }
   ],
   "source": [
    "from tests import test_dupes\n",
    "\n",
    "data = pd.read_csv(\"data/dupes_data.csv\")\n",
    "output = delete_duplicate_emails(data)\n",
    "\n",
    "result1 = test_dupes.test1(output)\n",
    "\n",
    "print(\"Output\\n:\", output)\n",
    "print(\"Test case 1:\", result1)"
   ]
  }
 ],
 "metadata": {
  "kernelspec": {
   "display_name": "base",
   "language": "python",
   "name": "python3"
  },
  "language_info": {
   "codemirror_mode": {
    "name": "ipython",
    "version": 3
   },
   "file_extension": ".py",
   "mimetype": "text/x-python",
   "name": "python",
   "nbconvert_exporter": "python",
   "pygments_lexer": "ipython3",
   "version": "3.12.0"
  }
 },
 "nbformat": 4,
 "nbformat_minor": 2
}
